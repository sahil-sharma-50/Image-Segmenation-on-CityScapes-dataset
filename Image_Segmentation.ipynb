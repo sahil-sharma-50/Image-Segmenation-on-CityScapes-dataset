{
  "cells": [
    {
      "cell_type": "markdown",
      "metadata": {
        "id": "TuWpoeZd6Yrw"
      },
      "source": [
        "# Image-Segmenation-on-CityScapes-dataset\n",
        "\n",
        "This PyTorch script aims to train a SegmentationModel for Road Scene segmentation task using the CityScapes dataset, with all required files pre-uploaded on Google Drive as a zip file. The code covers essential tasks such as dataset extraction, data loading, and model training, utilizing the DeepLabV3Plus architecture with a resnet34 encoder.\n",
        "\n",
        "> The segmentation steps are given below:<br>\n",
        "\n",
        "\n",
        "1.   Data Prepration\n",
        "2.   Data Transformation\n",
        "3.   Custom Dataset Class\n",
        "4.   Segmentation Model\n",
        "5.   Training and Evaluation Functions\n",
        "6.   Training Loop\n",
        "\n"
      ]
    },
    {
      "cell_type": "markdown",
      "metadata": {
        "id": "7iVQxkfa_Oxy"
      },
      "source": [
        "Before Starting with the Project we need to collect data from Google Drive\n",
        "\n",
        "### Mounting Google Drive and Installing Dependencies:"
      ]
    },
    {
      "cell_type": "code",
      "execution_count": 1,
      "metadata": {
        "colab": {
          "base_uri": "https://localhost:8080/"
        },
        "id": "AQbKANncoR2f",
        "outputId": "12078b74-a139-42b1-93a6-88d2d8af735a"
      },
      "outputs": [
        {
          "name": "stdout",
          "output_type": "stream",
          "text": [
            "Mounted at /content/drive\n"
          ]
        }
      ],
      "source": [
        "from google.colab import drive\n",
        "drive.mount('/content/drive')"
      ]
    },
    {
      "cell_type": "code",
      "execution_count": 2,
      "metadata": {
        "colab": {
          "base_uri": "https://localhost:8080/"
        },
        "id": "PP8t_O5jojN8",
        "outputId": "b966829b-0878-49fc-f591-262f64052d9f"
      },
      "outputs": [
        {
          "name": "stdout",
          "output_type": "stream",
          "text": [
            "Collecting segmentation-models-pytorch\n",
            "  Downloading segmentation_models_pytorch-0.3.3-py3-none-any.whl (106 kB)\n",
            "\u001b[2K     \u001b[90m━━━━━━━━━━━━━━━━━━━━━━━━━━━━━━━━━━━━━━━━\u001b[0m \u001b[32m106.7/106.7 kB\u001b[0m \u001b[31m2.3 MB/s\u001b[0m eta \u001b[36m0:00:00\u001b[0m\n",
            "\u001b[?25hRequirement already satisfied: torchvision>=0.5.0 in /usr/local/lib/python3.10/dist-packages (from segmentation-models-pytorch) (0.16.0+cu121)\n",
            "Collecting pretrainedmodels==0.7.4 (from segmentation-models-pytorch)\n",
            "  Downloading pretrainedmodels-0.7.4.tar.gz (58 kB)\n",
            "\u001b[2K     \u001b[90m━━━━━━━━━━━━━━━━━━━━━━━━━━━━━━━━━━━━━━━━\u001b[0m \u001b[32m58.8/58.8 kB\u001b[0m \u001b[31m7.0 MB/s\u001b[0m eta \u001b[36m0:00:00\u001b[0m\n",
            "\u001b[?25h  Preparing metadata (setup.py) ... \u001b[?25l\u001b[?25hdone\n",
            "Collecting efficientnet-pytorch==0.7.1 (from segmentation-models-pytorch)\n",
            "  Downloading efficientnet_pytorch-0.7.1.tar.gz (21 kB)\n",
            "  Preparing metadata (setup.py) ... \u001b[?25l\u001b[?25hdone\n",
            "Collecting timm==0.9.2 (from segmentation-models-pytorch)\n",
            "  Downloading timm-0.9.2-py3-none-any.whl (2.2 MB)\n",
            "\u001b[2K     \u001b[90m━━━━━━━━━━━━━━━━━━━━━━━━━━━━━━━━━━━━━━━━\u001b[0m \u001b[32m2.2/2.2 MB\u001b[0m \u001b[31m10.9 MB/s\u001b[0m eta \u001b[36m0:00:00\u001b[0m\n",
            "\u001b[?25hRequirement already satisfied: tqdm in /usr/local/lib/python3.10/dist-packages (from segmentation-models-pytorch) (4.66.1)\n",
            "Requirement already satisfied: pillow in /usr/local/lib/python3.10/dist-packages (from segmentation-models-pytorch) (9.4.0)\n",
            "Requirement already satisfied: torch in /usr/local/lib/python3.10/dist-packages (from efficientnet-pytorch==0.7.1->segmentation-models-pytorch) (2.1.0+cu121)\n",
            "Collecting munch (from pretrainedmodels==0.7.4->segmentation-models-pytorch)\n",
            "  Downloading munch-4.0.0-py2.py3-none-any.whl (9.9 kB)\n",
            "Requirement already satisfied: pyyaml in /usr/local/lib/python3.10/dist-packages (from timm==0.9.2->segmentation-models-pytorch) (6.0.1)\n",
            "Requirement already satisfied: huggingface-hub in /usr/local/lib/python3.10/dist-packages (from timm==0.9.2->segmentation-models-pytorch) (0.19.4)\n",
            "Requirement already satisfied: safetensors in /usr/local/lib/python3.10/dist-packages (from timm==0.9.2->segmentation-models-pytorch) (0.4.1)\n",
            "Requirement already satisfied: numpy in /usr/local/lib/python3.10/dist-packages (from torchvision>=0.5.0->segmentation-models-pytorch) (1.23.5)\n",
            "Requirement already satisfied: requests in /usr/local/lib/python3.10/dist-packages (from torchvision>=0.5.0->segmentation-models-pytorch) (2.31.0)\n",
            "Requirement already satisfied: filelock in /usr/local/lib/python3.10/dist-packages (from torch->efficientnet-pytorch==0.7.1->segmentation-models-pytorch) (3.13.1)\n",
            "Requirement already satisfied: typing-extensions in /usr/local/lib/python3.10/dist-packages (from torch->efficientnet-pytorch==0.7.1->segmentation-models-pytorch) (4.5.0)\n",
            "Requirement already satisfied: sympy in /usr/local/lib/python3.10/dist-packages (from torch->efficientnet-pytorch==0.7.1->segmentation-models-pytorch) (1.12)\n",
            "Requirement already satisfied: networkx in /usr/local/lib/python3.10/dist-packages (from torch->efficientnet-pytorch==0.7.1->segmentation-models-pytorch) (3.2.1)\n",
            "Requirement already satisfied: jinja2 in /usr/local/lib/python3.10/dist-packages (from torch->efficientnet-pytorch==0.7.1->segmentation-models-pytorch) (3.1.2)\n",
            "Requirement already satisfied: fsspec in /usr/local/lib/python3.10/dist-packages (from torch->efficientnet-pytorch==0.7.1->segmentation-models-pytorch) (2023.6.0)\n",
            "Requirement already satisfied: triton==2.1.0 in /usr/local/lib/python3.10/dist-packages (from torch->efficientnet-pytorch==0.7.1->segmentation-models-pytorch) (2.1.0)\n",
            "Requirement already satisfied: packaging>=20.9 in /usr/local/lib/python3.10/dist-packages (from huggingface-hub->timm==0.9.2->segmentation-models-pytorch) (23.2)\n",
            "Requirement already satisfied: charset-normalizer<4,>=2 in /usr/local/lib/python3.10/dist-packages (from requests->torchvision>=0.5.0->segmentation-models-pytorch) (3.3.2)\n",
            "Requirement already satisfied: idna<4,>=2.5 in /usr/local/lib/python3.10/dist-packages (from requests->torchvision>=0.5.0->segmentation-models-pytorch) (3.6)\n",
            "Requirement already satisfied: urllib3<3,>=1.21.1 in /usr/local/lib/python3.10/dist-packages (from requests->torchvision>=0.5.0->segmentation-models-pytorch) (2.0.7)\n",
            "Requirement already satisfied: certifi>=2017.4.17 in /usr/local/lib/python3.10/dist-packages (from requests->torchvision>=0.5.0->segmentation-models-pytorch) (2023.11.17)\n",
            "Requirement already satisfied: MarkupSafe>=2.0 in /usr/local/lib/python3.10/dist-packages (from jinja2->torch->efficientnet-pytorch==0.7.1->segmentation-models-pytorch) (2.1.3)\n",
            "Requirement already satisfied: mpmath>=0.19 in /usr/local/lib/python3.10/dist-packages (from sympy->torch->efficientnet-pytorch==0.7.1->segmentation-models-pytorch) (1.3.0)\n",
            "Building wheels for collected packages: efficientnet-pytorch, pretrainedmodels\n",
            "  Building wheel for efficientnet-pytorch (setup.py) ... \u001b[?25l\u001b[?25hdone\n",
            "  Created wheel for efficientnet-pytorch: filename=efficientnet_pytorch-0.7.1-py3-none-any.whl size=16428 sha256=89f3c61e82a0a5e2577ef7890ba89a8c7c9dce887427cfc918fb8f1ddf918692\n",
            "  Stored in directory: /root/.cache/pip/wheels/03/3f/e9/911b1bc46869644912bda90a56bcf7b960f20b5187feea3baf\n",
            "  Building wheel for pretrainedmodels (setup.py) ... \u001b[?25l\u001b[?25hdone\n",
            "  Created wheel for pretrainedmodels: filename=pretrainedmodels-0.7.4-py3-none-any.whl size=60945 sha256=a862adf16dafaa515eea546edaf1e21ebe30b805e9ebd96052c0d57483c32af9\n",
            "  Stored in directory: /root/.cache/pip/wheels/35/cb/a5/8f534c60142835bfc889f9a482e4a67e0b817032d9c6883b64\n",
            "Successfully built efficientnet-pytorch pretrainedmodels\n",
            "Installing collected packages: munch, efficientnet-pytorch, timm, pretrainedmodels, segmentation-models-pytorch\n",
            "Successfully installed efficientnet-pytorch-0.7.1 munch-4.0.0 pretrainedmodels-0.7.4 segmentation-models-pytorch-0.3.3 timm-0.9.2\n"
          ]
        }
      ],
      "source": [
        "import torch\n",
        "import numpy as np\n",
        "from torch.utils.data import DataLoader, Dataset\n",
        "import torch.nn as nn\n",
        "from tqdm import tqdm\n",
        "import matplotlib.pyplot as plt\n",
        "import torch.nn.functional as F\n",
        "from PIL import Image\n",
        "from torchvision import transforms\n",
        "import glob\n",
        "import zipfile\n",
        "!pip install segmentation-models-pytorch\n",
        "import segmentation_models_pytorch as smp\n",
        "from segmentation_models_pytorch.losses import DiceLoss"
      ]
    },
    {
      "cell_type": "markdown",
      "metadata": {
        "id": "xIC3V7jU_kB3"
      },
      "source": [
        "### 1. Data Prepration\n",
        "* CityScapes dataset is extracted from a zip file.\n",
        "* Parameters such as the number of epochs, learning rate, encoder type, device, batch size, and image size are set."
      ]
    },
    {
      "cell_type": "code",
      "execution_count": 3,
      "metadata": {
        "id": "WzMKzMYmoqWx"
      },
      "outputs": [],
      "source": [
        "zip_ref= zipfile.ZipFile(\"/content/drive/MyDrive/CityScapes.zip\",'r')\n",
        "zip_ref.extractall(\"/content/dataset\")\n",
        "zip_ref.close()"
      ]
    },
    {
      "cell_type": "code",
      "execution_count": 4,
      "metadata": {
        "id": "fy9NmoYfpWvb"
      },
      "outputs": [],
      "source": [
        "cityscapes = '/content/dataset/CityScapes'\n",
        "path_data = cityscapes"
      ]
    },
    {
      "cell_type": "code",
      "execution_count": 5,
      "metadata": {
        "id": "LktDK9uZ_0SQ"
      },
      "outputs": [],
      "source": [
        "train_image_dir = f'{path_data}/leftImg8bit_trainvaltest/leftImg8bit/train/*/*'\n",
        "train_mask_dir = f'{path_data}/Output/gtFine/train/*/*'\n",
        "\n",
        "val_image_dir = f'{path_data}/leftImg8bit_trainvaltest/leftImg8bit/val/*/*'\n",
        "val_mask_dir = f'{path_data}/Output/gtFine/val/*/*'"
      ]
    },
    {
      "cell_type": "markdown",
      "metadata": {},
      "source": [
        "### 2. Initializing variables"
      ]
    },
    {
      "cell_type": "code",
      "execution_count": 6,
      "metadata": {
        "id": "lNnicieDpWqM"
      },
      "outputs": [],
      "source": [
        "Epochs = 20\n",
        "learning_rate = 0.001\n",
        "encoder = 'resnet34'\n",
        "device = 'cuda' if torch.cuda.is_available() else 'cpu'\n",
        "batch_size = 4\n",
        "img_size = (256,512)"
      ]
    },
    {
      "cell_type": "markdown",
      "metadata": {
        "id": "t5bE4A5L_7SA"
      },
      "source": [
        "### 3. Data Transformation"
      ]
    },
    {
      "cell_type": "code",
      "execution_count": 7,
      "metadata": {
        "id": "lsz-33-CpWha"
      },
      "outputs": [],
      "source": [
        "def get_train_trans():\n",
        "  return transforms.Compose([\n",
        "      transforms.Resize(img_size, interpolation=Image.BILINEAR),\n",
        "      transforms.ToTensor(),\n",
        "  ])\n",
        "\n",
        "def get_valid_trans():\n",
        "  return transforms.Compose([\n",
        "      transforms.Resize(img_size, interpolation=Image.BILINEAR),\n",
        "      transforms.ToTensor(),\n",
        "  ])"
      ]
    },
    {
      "cell_type": "markdown",
      "metadata": {
        "id": "B0m_RC87AAOZ"
      },
      "source": [
        "### 4. Custom Dataset Class\n",
        "* A custom dataset class (CustomDataset) is defined, which inherits from torch.\n",
        "utils.data.Dataset.\n",
        "* The class handles loading and transforming images and masks."
      ]
    },
    {
      "cell_type": "code",
      "execution_count": 8,
      "metadata": {
        "id": "9dS7T117pWc_"
      },
      "outputs": [],
      "source": [
        "class CustomDataset(Dataset):\n",
        "  def __init__(self, img_dir, mask_dir, transform=None):\n",
        "    self.img_dir = img_dir\n",
        "    self.mask_dir = mask_dir\n",
        "    self.transform = transform\n",
        "\n",
        "    self.images = glob.glob(self.img_dir)\n",
        "    self.images = sorted(self.images)\n",
        "\n",
        "    self.masks = glob.glob(self.mask_dir)\n",
        "    self.masks = sorted(self.masks)\n",
        "\n",
        "  def __getitem__(self, index):\n",
        "    image, mask = self.images[index], self.masks[index]\n",
        "    image = Image.open(image).convert(\"RGB\")\n",
        "    mask = Image.open(mask).convert(\"L\")\n",
        "\n",
        "    if self.transform:\n",
        "      image = self.transform(image)\n",
        "      mask = self.transform(mask)\n",
        "\n",
        "    return image, mask\n",
        "\n",
        "  def __len__(self):\n",
        "    return len(self.images)"
      ]
    },
    {
      "cell_type": "code",
      "execution_count": 9,
      "metadata": {
        "id": "DxRgw28mpWY1"
      },
      "outputs": [],
      "source": [
        "trainset = CustomDataset(train_image_dir, train_mask_dir, get_train_trans())\n",
        "validset = CustomDataset(val_image_dir, val_mask_dir, get_valid_trans())"
      ]
    },
    {
      "cell_type": "code",
      "execution_count": 10,
      "metadata": {
        "id": "f8sqivHXptXK"
      },
      "outputs": [],
      "source": [
        "train_loader = DataLoader(trainset, batch_size=batch_size, shuffle=True)\n",
        "val_loader = DataLoader(validset, batch_size=batch_size)"
      ]
    },
    {
      "cell_type": "markdown",
      "metadata": {
        "id": "qlqBiLYYAz12"
      },
      "source": [
        "### 5. Segmentation Model\n",
        "* The segmentation model is defined as a class (SegmentationModel) inheriting from torch.nn.Module.\n",
        "* The model uses the DeepLabV3Plus architecture from the segmentation models library, with a specified encoder and activation function."
      ]
    },
    {
      "cell_type": "code",
      "execution_count": 11,
      "metadata": {
        "id": "Wqkdbd_7p_c5"
      },
      "outputs": [],
      "source": [
        "class SegmentationModel(nn.Module):\n",
        "  def __init__(self):\n",
        "    super(SegmentationModel, self).__init__()\n",
        "\n",
        "    self.arc = smp.DeepLabV3Plus(\n",
        "        encoder_name = encoder,\n",
        "        in_channels= 3,\n",
        "        classes=1,\n",
        "        activation=None\n",
        "    )\n",
        "    self.activation = nn.Sigmoid()\n",
        "  def forward(self, images, masks = None):\n",
        "    logits = self.arc(images)\n",
        "\n",
        "    if masks is not None:\n",
        "      loss1 = DiceLoss(mode = 'binary')(logits, masks)\n",
        "      loss2 = nn.BCEWithLogitsLoss()(logits, masks)\n",
        "      return logits, loss1 + loss2\n",
        "    return self.activation(logits)"
      ]
    },
    {
      "cell_type": "code",
      "execution_count": 12,
      "metadata": {
        "colab": {
          "base_uri": "https://localhost:8080/"
        },
        "id": "jLQwx3hJp_aB",
        "outputId": "530bba0e-7683-46dc-e151-d3446e6fc663"
      },
      "outputs": [
        {
          "name": "stderr",
          "output_type": "stream",
          "text": [
            "Downloading: \"https://download.pytorch.org/models/resnet34-333f7ec4.pth\" to /root/.cache/torch/hub/checkpoints/resnet34-333f7ec4.pth\n",
            "100%|██████████| 83.3M/83.3M [00:00<00:00, 212MB/s]\n"
          ]
        }
      ],
      "source": [
        "model = SegmentationModel()\n",
        "model.to(device);"
      ]
    },
    {
      "cell_type": "markdown",
      "metadata": {
        "id": "iYKv1C6NA7c7"
      },
      "source": [
        "### 6. Training and Evaluation Functions:\n",
        "* Functions for training (train_fn) and evaluation (eval_fn) are defined.\n",
        "* Training involves iterating through batches, calculating and backpropagating the loss, and updating the model parameters.\n",
        "*Evaluation is similar but without backpropagation."
      ]
    },
    {
      "cell_type": "code",
      "execution_count": 13,
      "metadata": {
        "id": "3xV3Stc2p_Ww"
      },
      "outputs": [],
      "source": [
        "def train_fn(data_loader, model, optimizer):\n",
        "  model.train()\n",
        "  total_loss = 0.0\n",
        "\n",
        "  for images, masks in tqdm(data_loader):\n",
        "    images = images.to(device)\n",
        "    masks = masks.to(device)\n",
        "\n",
        "    optimizer.zero_grad()\n",
        "    logits, loss = model(images, masks)\n",
        "    loss.backward()\n",
        "    optimizer.step()\n",
        "\n",
        "    total_loss += loss.item()\n",
        "  return total_loss / len(data_loader)"
      ]
    },
    {
      "cell_type": "code",
      "execution_count": 14,
      "metadata": {
        "id": "Ptkaarvdp_UA"
      },
      "outputs": [],
      "source": [
        "def eval_fn(data_loader, model):\n",
        "  model.eval()\n",
        "  total_loss = 0.0\n",
        "\n",
        "  with torch.no_grad():\n",
        "    for images, masks in tqdm(data_loader):\n",
        "      images = images.to(device)\n",
        "      masks = masks.to(device)\n",
        "\n",
        "      logits, loss = model(images, masks)\n",
        "\n",
        "      total_loss += loss.item()\n",
        "  return total_loss / len(data_loader)"
      ]
    },
    {
      "cell_type": "markdown",
      "metadata": {
        "id": "TIvv5cphBDLc"
      },
      "source": [
        "### 7. Training Loop\n",
        "* The main training loop runs for the specified number of epochs.\n",
        "* Training and validation losses are recorded for each epoch.\n",
        "* The model with the best validation loss is saved."
      ]
    },
    {
      "cell_type": "code",
      "execution_count": null,
      "metadata": {
        "id": "yIRg5-Hup_O9"
      },
      "outputs": [],
      "source": [
        "optimizer = torch.optim.Adam(model.parameters(), lr=learning_rate)\n",
        "best_valid_loss = np.Inf\n",
        "train_losses = []\n",
        "valid_losses = []\n",
        "\n",
        "for i in range(Epochs):\n",
        "    print(f\"Epoch: {i+1}\")\n",
        "    train_loss = train_fn(train_loader, model, optimizer)\n",
        "    valid_loss = eval_fn(val_loader, model)\n",
        "    train_losses.append(train_loss)\n",
        "    valid_losses.append(valid_loss)\n",
        "\n",
        "    print(f\"Train Loss: {train_loss:.4f} Valid Loss: {valid_loss:.4f}\")\n",
        "\n",
        "    if valid_loss < best_valid_loss:\n",
        "        torch.save(model.state_dict(), 'road_scene_ImgSeg_model.pt')\n",
        "        print('Model Saved!')\n",
        "        best_valid_loss = valid_loss\n",
        "    print('\\n')"
      ]
    },
    {
      "cell_type": "markdown",
      "metadata": {
        "id": "sjGZQHVwDEIq"
      },
      "source": [
        "### Plot the training loss"
      ]
    },
    {
      "cell_type": "code",
      "execution_count": null,
      "metadata": {
        "colab": {
          "base_uri": "https://localhost:8080/",
          "height": 494
        },
        "id": "pl8zOz_Np_J0",
        "outputId": "25d2bf2f-c5bb-4dab-f0be-786c7a4152ed"
      },
      "outputs": [
        {
          "data": {
            "text/plain": [
              "<matplotlib.legend.Legend at 0x7eedb523ebf0>"
            ]
          },
          "execution_count": 39,
          "metadata": {},
          "output_type": "execute_result"
        },
        {
          "data": {
            "image/png": "[encoded data removed]",
            "text/plain": [
              "<Figure size 640x480 with 1 Axes>"
            ]
          },
          "metadata": {},
          "output_type": "display_data"
        }
      ],
      "source": [
        "plt.style.use(\"ggplot\")\n",
        "plt.figure()\n",
        "plt.plot(train_losses, label=\"train_loss\")\n",
        "plt.plot(valid_losses, label=\"valid_loss\")\n",
        "plt.title(\"Training Loss on Dataset\")\n",
        "plt.xlabel(\"Epoch #\")\n",
        "plt.ylabel(\"Loss\")\n",
        "plt.legend(loc=\"lower left\")"
      ]
    },
    {
      "cell_type": "code",
      "execution_count": null,
      "metadata": {
        "id": "GlDXoTHJz3y2"
      },
      "outputs": [],
      "source": []
    }
  ],
  "metadata": {
    "accelerator": "GPU",
    "colab": {
      "gpuType": "T4",
      "provenance": []
    },
    "kernelspec": {
      "display_name": "Python 3",
      "name": "python3"
    },
    "language_info": {
      "name": "python"
    }
  },
  "nbformat": 4,
  "nbformat_minor": 0
}
